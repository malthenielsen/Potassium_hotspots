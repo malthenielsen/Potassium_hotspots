{
 "cells": [
  {
   "cell_type": "code",
   "execution_count": 112,
   "id": "e6a21aed-9e78-421c-b06a-a677ff80908d",
   "metadata": {},
   "outputs": [
    {
     "name": "stdout",
     "output_type": "stream",
     "text": [
      "\n",
      "30799 lines read\n",
      "\t-69.999743 \n",
      "\t-69.999743 \n"
     ]
    },
    {
     "name": "stderr",
     "output_type": "stream",
     "text": [
      "NEURON: syntax error\n",
      " near line 2\n",
      " hoc_ac_ = \n",
      "           ^\n",
      "        Graph[0].xexpr(\"\")\n",
      "      newphaseplane()\n",
      "    doNotify()\n"
     ]
    },
    {
     "name": "stdout",
     "output_type": "stream",
     "text": [
      "Exception in gui thread\n"
     ]
    }
   ],
   "source": [
    "import numpy as np\n",
    "from matplotlib import pyplot as plt\n",
    "plt.style.use('K_PAPER')\n",
    "from neuron import h, gui\n",
    "h.load_file('stdrun.hoc')\n",
    "h.nrn_load_dll('./mod_shai/x86_64/libnrnmech.so')\n",
    "\n",
    "h.load_file('import3d.hoc')\n",
    "\n",
    "class MyCell:\n",
    "    def __init__(self):\n",
    "        morph_reader = h.Import3d_Neurolucida3()\n",
    "        morph_reader.input('/home/nordentoft/Documents/Potassium_and_dendrites/supplementary_model/morphologies/cell3.asc')\n",
    "        i3d = h.Import3d_GUI(morph_reader, 0)\n",
    "        i3d.instantiate(self)\n",
    "\n",
    "m = MyCell()"
   ]
  },
  {
   "cell_type": "code",
   "execution_count": 118,
   "id": "24229df0-b800-48b9-ad3c-15677878cbcc",
   "metadata": {},
   "outputs": [
    {
     "name": "stdout",
     "output_type": "stream",
     "text": [
      "['__class__', '__delattr__', '__dict__', '__dir__', '__doc__', '__eq__', '__format__', '__ge__', '__getattribute__', '__getstate__', '__gt__', '__hash__', '__init__', '__init_subclass__', '__le__', '__lt__', '__module__', '__ne__', '__new__', '__reduce__', '__reduce_ex__', '__repr__', '__setattr__', '__sizeof__', '__str__', '__subclasshook__', '__weakref__', 'all', 'apic', 'axon', 'dend', 'soma']\n"
     ]
    }
   ],
   "source": [
    "print(dir(m))"
   ]
  },
  {
   "cell_type": "code",
   "execution_count": 106,
   "id": "b7bfb30f-9f52-45d7-b748-7535f6e0d025",
   "metadata": {},
   "outputs": [],
   "source": [
    "for soma in m.soma:\n",
    "    soma.insert('Im')\n",
    "    soma.insert('Ca_LVAst')\n",
    "    soma.insert('Ca_HVA')\n",
    "    soma.insert('CaDynamics_E2')\n",
    "    soma.insert('SK_E2')\n",
    "    soma.insert('SKv3_1')\n",
    "    soma.insert('NaTs2_t')\n",
    "    soma.insert('pas')\n",
    "    soma.ek = -85\n",
    "    soma.ena = 50\n",
    "    soma.insert('Ih')\n",
    "    soma.gIhbar_Ih = 0.0001*0.75\n",
    "    soma.g_pas = 3e-6\n",
    "    soma.gImbar_Im = 0.000008\n",
    "    soma.decay_CaDynamics_E2 = 294.6795\n",
    "    soma.gamma_CaDynamics_E2 = 0.000557\n",
    "    soma.gCa_LVAstbar_Ca_LVAst = 0.000557\n",
    "    soma.gCa_HVAbar_Ca_HVA = 0.000644\n",
    "    soma.gSK_E2bar_SK_E2 = 0.09965\n",
    "    soma.gSKv3_1bar_SKv3_1 = 0.338029\n",
    "    soma.gNaTs2_tbar_NaTs2_t = 0.998912\n",
    "\n",
    "for apic in m.apic:\n",
    "    apic.insert('CaDynamics_E2')\n",
    "    apic.insert('SK_E2')\n",
    "    apic.insert('Ca_LVAst')\n",
    "    apic.insert('Ca_HVA')\n",
    "    apic.insert('SKv3_1')\n",
    "    apic.insert('NaTs2_t')\n",
    "    apic.insert('Im')\n",
    "    apic.insert('Ih')\n",
    "    apic.insert('pas')\n",
    "    apic.ek =-85\n",
    "    apic.ena = 50\n",
    "    apic.cm = 2\n",
    "    apic.g_pas = 6e-5\n",
    "    apic.decay_CaDynamics_E2 = 35.725651 \n",
    "    apic.gamma_CaDynamics_E2 = 0.000637 \n",
    "    apic.gSK_E2bar_SK_E2 = 0.000002 \n",
    "    apic.gCa_HVAbar_Ca_HVA = 0.000701 \n",
    "    apic.gSKv3_1bar_SKv3_1 = 0.001808 \n",
    "    apic.gNaTs2_tbar_NaTs2_t = 0.021489\n",
    "    apic.gImbar_Im = 0.00099 \n",
    "    apic.gIhbar_Ih =  .00015 //0.00001*1.5\n",
    "\n",
    "for all in m.all:\n",
    "    all.insert('pas')\n",
    "    all.cm = 1\n",
    "    all.Ra = 100\n",
    "    all.e_pas = -90\n",
    "\n",
    "for axon in m.axon:\n",
    "    axon.insert('Im')\n",
    "    axon.insert('Ca_LVAst') \n",
    "    axon.insert('Ca_HVA')\n",
    "    axon.insert('CaDynamics_E2') \n",
    "    axon.insert('SKv3_1')\n",
    "    axon.insert('SK_E2')\n",
    "    axon.insert('K_Tst')\n",
    "    axon.insert('K_Pst')\n",
    "    axon.insert('Nap_Et2') \n",
    "    axon.insert('NaTa_t')\n",
    "    axon.insert('Ih')\n",
    "    axon.ek = -85\n",
    "    axon.ena = 50\n",
    "    axon.g_pas = 3e-5\n",
    "    axon.gIhbar_Ih = 0.0001/2\n",
    "    axon.gImbar_Im = 0.013322 \n",
    "    axon.decay_CaDynamics_E2 = 277.300774 \n",
    "    axon.gamma_CaDynamics_E2 = 0.000525 \n",
    "    axon.gCa_LVAstbar_Ca_LVAst = 0.000813 \n",
    "    axon.gCa_HVAbar_Ca_HVA = 0.000222 \n",
    "    axon.gSKv3_1bar_SKv3_1 = 0.473799 \n",
    "    axon.gSK_E2bar_SK_E2 = 0.000047 \n",
    "    axon.gK_Tstbar_K_Tst = 0.077274 \n",
    "    axon.gK_Pstbar_K_Pst = 0.188851 \n",
    "    axon.gNap_Et2bar_Nap_Et2 = 0.005834 \n",
    "    axon.gNaTa_tbar_NaTa_t = 3.89618 \n",
    "\n",
    "\n",
    "    \n"
   ]
  },
  {
   "cell_type": "code",
   "execution_count": 107,
   "id": "ba4a1e46-b270-443c-9fc5-e1088783d7b3",
   "metadata": {},
   "outputs": [
    {
     "data": {
      "text/plain": [
       "0.0"
      ]
     },
     "execution_count": 107,
     "metadata": {},
     "output_type": "execute_result"
    }
   ],
   "source": [
    "stim = h.IClamp(0.5, sec=m.soma[0])\n",
    "stim.delay = 100  # Start injecting current at 5 ms\n",
    "stim.dur = 50   # Duration of current injection in ms\n",
    "stim.amp = 100  # Amplitude of current injection in nA\n",
    "\n",
    "V_vec = h.Vector().record(m.soma[0](0.0)._ref_v)\n",
    "h.finitialize(-70)\n",
    "h.tstop = 10\n",
    "h.run()"
   ]
  },
  {
   "cell_type": "code",
   "execution_count": 108,
   "id": "a3975ced-ef39-440c-bb38-516f74bcac47",
   "metadata": {},
   "outputs": [
    {
     "data": {
      "text/plain": [
       "(0.0, 400.0)"
      ]
     },
     "execution_count": 108,
     "metadata": {},
     "output_type": "execute_result"
    },
    {
     "data": {
      "image/png": "[encoded data removed]",
      "text/plain": [
       "<Figure size 640x480 with 1 Axes>"
      ]
     },
     "metadata": {},
     "output_type": "display_data"
    }
   ],
   "source": [
    "plt.plot(V_vec)\n",
    "plt.xlim(0, 400)\n",
    "\n"
   ]
  },
  {
   "cell_type": "code",
   "execution_count": null,
   "id": "c7a32277-1a5c-4731-b67e-f3bedd73bff4",
   "metadata": {},
   "outputs": [],
   "source": []
  }
 ],
 "metadata": {
  "kernelspec": {
   "display_name": "Python 3 (ipykernel)",
   "language": "python",
   "name": "python3"
  },
  "language_info": {
   "codemirror_mode": {
    "name": "ipython",
    "version": 3
   },
   "file_extension": ".py",
   "mimetype": "text/x-python",
   "name": "python",
   "nbconvert_exporter": "python",
   "pygments_lexer": "ipython3",
   "version": "3.11.5"
  }
 },
 "nbformat": 4,
 "nbformat_minor": 5
}
